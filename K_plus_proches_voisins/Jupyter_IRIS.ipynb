{
 "cells": [
  {
   "cell_type": "code",
   "execution_count": null,
   "metadata": {},
   "outputs": [],
   "source": [
    "# Tous les imports du notebook, cellule à exécuter dès le début\n",
    "from math import sqrt\n",
    "from random import shuffle\n",
    "import matplotlib.pyplot as plt\n",
    "import csv"
   ]
  },
  {
   "cell_type": "markdown",
   "metadata": {},
   "source": [
    "# Algorithme des k plus proches voisins \n",
    "## Application : classification des Iris."
   ]
  },
  {
   "cell_type": "markdown",
   "metadata": {},
   "source": [
    "En 1936, Edgar Anderson a collecté des données sur 3 espèces d'iris : \"iris setosa\", \"iris virginica\" et \"iris versicolor\" \n",
    "our chaque iris étudié, Anderson a mesuré (en cm) :\n",
    "- la largeur des sépales\n",
    "- la longueur des sépales\n",
    "- la largeur des pétales\n",
    "- la longueur des pétales\n",
    "\n",
    "<figure style=\"display: inline-block;\">\n",
    "    <img src=\"./Images/Iris_setosa.jpg\" alt=\"alt text\" width=\"200px\">\n",
    "     <figcaption>Iris setosa</figcaption>\n",
    "</figure>\n",
    "<figure style=\"display: inline-block;\">\n",
    "    <img src=\"./Images/Iris_virginica.jpg\" alt=\"alt text\" width=\"200px\">\n",
    "     <figcaption>Iris virginica</figcaption>\n",
    "</figure>\n",
    "<figure style=\"display: inline-block;\">\n",
    "    <img src=\"./Images/iris_versicolor.jpg\" alt=\"alt text\" width=\"200px\">\n",
    "     <figcaption>Iris versicolor</figcaption>\n",
    "</figure>\n",
    "<figure style=\"display: inline-block;\">\n",
    "    <img src=\"./Images/iris_petal_sepal.png\" alt=\"alt text\" width=\"200px\">\n",
    "     <figcaption>Diverses mesures</figcaption>\n",
    "</figure>\n",
    "\n",
    "\n",
    "\n",
    "Les données sont ici stockées dans un fichier au format `.csv` , dont voici les deux premières lignes :\n",
    "\n",
    "    5.1,3.5,1.4,0.2,Iris-setosa\n",
    "    4.9,3.0,1.4,0.2,Iris-setosa\n",
    "    \n",
    "Chaque ligne de données est composée des descripteurs et d'une étiquette (l'espèce de l'iris) , séparés par une virgule. \n",
    "\n",
    "\n",
    "Pour chacun de ces individus on dispose des champs :\n",
    "```\n",
    "- longueur_sepale : longueur des sépales  \n",
    "\n",
    "- largeur_sepale  : largeur des sépales  \n",
    "\n",
    "- longueur_petale : longueur des pétales  \n",
    "\n",
    "- largeur_petale  : largeur des pétales  \n",
    "\n",
    "- espece          : 'Iris-setosa', 'Irid_virginica' ou 'Iris-versicolor'\n",
    "```\n",
    "\n",
    "### Durant ce TP, vous allez chercher à déterminer les espèce d'iris à partir des mesures des pétales et sépales.\n",
    "\n",
    "On va donc chercher, à partir des quatre descripteurs longueur_sepale, largeur_sepale, longueur_petale et largeur_petale, à effectuer une prédiction de l'étiquette espece."
   ]
  },
  {
   "cell_type": "markdown",
   "metadata": {},
   "source": [
    "<div class = \"alert alert-warning\">\n",
    "\n",
    "#### Exercice 1:\n",
    "<img src='./Images/extrait_jeu_donnees_iris.png' style='float:right;' width=500>\n",
    "\n",
    "1. Ouvrir le fichier <a href=\"Datas/iris.csv\">iris.csv </a> avec un tableur ou un éditeur de texte. Quel est le séparateur de ce fichier csv ?\n",
    "2. Combien de colonnes contient ce fichier ?\n",
    "3. Combien de lignes contient ce fichier ?"
   ]
  },
  {
   "cell_type": "markdown",
   "metadata": {},
   "source": [
    "#### Réponse :\n",
    "   1. \n",
    "   2. \n",
    "   3. "
   ]
  },
  {
   "cell_type": "markdown",
   "metadata": {},
   "source": [
    "## Chargement des données"
   ]
  },
  {
   "cell_type": "code",
   "execution_count": null,
   "metadata": {},
   "outputs": [],
   "source": [
    "def lirefichier(nomfichier):\n",
    "    fichierCSV = open(nomfichier,\"r\")\n",
    "    lignes = csv.reader(fichierCSV)\n",
    "    next(lignes)\n",
    "    data = list(lignes)\n",
    "    \n",
    "    for i in range(len(data)):\n",
    "        for j in range(len(data[i])-1):\n",
    "            data[i][j] = float(data[i][j])\n",
    "    \n",
    "    return data\n",
    "\n",
    "A=(2.5,0.75)\n",
    "\n",
    "dataset=lirefichier('./Datas/iris.csv')\n",
    "print(dataset[0])"
   ]
  },
  {
   "cell_type": "markdown",
   "metadata": {},
   "source": [
    "<div class = \"alert alert-warning\">\n",
    "\n",
    "#### Exercice 2\n",
    "1. Quel est le type de données de la variable `dataset`\n",
    "2. De quels types sont les 5 éléments stockés dans `dataset[0]` ?"
   ]
  },
  {
   "cell_type": "markdown",
   "metadata": {},
   "source": [
    "#### Réponses :\n",
    "1. \n",
    "2. "
   ]
  },
  {
   "cell_type": "markdown",
   "metadata": {},
   "source": [
    "## Affichage des données\n",
    "\n",
    "Dans notre exemple, nous avons 4 variables descriptives. Or il n'est pas possible de tracer un graphique avec 4 axes.  \n",
    "Une solution est de représenter les données en choisissant deux axes parmi les varaibles descritives, cela donne : \n",
    "\n",
    "|             | Abscisse | Ordonnée |\n",
    "|:-----------:|----------|----------|\n",
    "| Graphique 1 | largeur des sépales         |    longueur des sépales      |\n",
    "| Graphique 2 | largeur des sépales         |   largeur des pétales       |\n",
    "| Graphique 3 | largeur des sépales         |   longueur des pétales       |\n",
    "| Graphique 4 | longueur des sépales         |  largeur des pétales        |\n",
    "| Graphique 5 | longueur des sépales         |  longueur des pétales        |\n",
    "| Graphique 6 | largeur des pétales         |    longueur des pétales      |\n",
    "\n",
    "Voici, ci-dessous, le résultat obtenu.\n",
    "\n",
    "**Notes** : \n",
    "- le code ci-dessous n'est pas à savoir reproduire, mais vous pouvez chercher à le comprendre\n",
    "- Une autre façon de faire est de choisir 3 axes et de tracer un graphique en 3 dimensions."
   ]
  },
  {
   "cell_type": "code",
   "execution_count": null,
   "metadata": {},
   "outputs": [],
   "source": [
    "def extraction_abs_et_ord(indice1,indice2):\n",
    "    \"\"\"\n",
    "    Entrée : deux entiers distinct entre 0 et 3\n",
    "    Sortie : deux listes de flottants\n",
    "    Extrait six listes de coordonnées à partir des données de la liste dataset\n",
    "    \"\"\"\n",
    "    donnees_abscisses_setosa = [iris[indice1] for iris in dataset if iris[4] == 'Iris-setosa']\n",
    "    donnees_ordonnees_setosa = [iris[indice2] for iris in dataset if iris[4] == 'Iris-setosa']\n",
    "    donnees_abscisses_versicolor = [iris[indice1] for iris in dataset if iris[4] == 'Iris-versicolor']\n",
    "    donnees_ordonnees_versicolor = [iris[indice2] for iris in dataset if iris[4] == 'Iris-versicolor']\n",
    "    donnees_abscisses_virginica = [iris[indice1] for iris in dataset if iris[4] == 'Iris-virginica']\n",
    "    donnees_ordonnees_virginica = [iris[indice2] for iris in dataset if iris[4] == 'Iris-virginica']\n",
    "    return donnees_abscisses_setosa,donnees_ordonnees_setosa,donnees_abscisses_versicolor,donnees_ordonnees_versicolor, donnees_abscisses_virginica,donnees_ordonnees_virginica\n",
    "\n",
    "\n",
    "donnees_abscisses_setosa,donnees_ordonnees_setosa,donnees_abscisses_versicolor,donnees_ordonnees_versicolor, donnees_abscisses_virginica,donnees_ordonnees_virginica = extraction_abs_et_ord(0,1)\n",
    "\n",
    "\n",
    "# Instanciation du graphique\n",
    "fig, axs = plt.subplots(2, 3, figsize=(20, 10))\n",
    "# Définition des légendes\n",
    "point_labels = [\"Iris Setosa\", \"Iris versicolor\", \"Iris virginica\"]\n",
    "axes_labels = [\"longueur des sépales\" , \"largeur des sépales\" , \"longueur des pétales\"  , \"largeur des pétales\"  ]\n",
    "# Dictionnaire associant la position du graphique avec les caratères étudiés\n",
    "correspondance = {(0,0):(0,1) , (0,1):(0,2) , (0,2):(0,3) , (1,0):(1,2) , (1,1):(1,3) , (1,2):(2,3)}\n",
    "\n",
    "# Boucle permetant d'afficher les données en choisissant les axes\n",
    "compteur = 0\n",
    "for i in range(0,2):\n",
    "    for j in range(0,3):\n",
    "        compteur += 1\n",
    "        # extraction des données\n",
    "        indice1,indice2=correspondance[(i,j)]\n",
    "        donnees_abscisses_setosa,donnees_ordonnees_setosa,donnees_abscisses_versicolor,donnees_ordonnees_versicolor, donnees_abscisses_virginica,donnees_ordonnees_virginica = extraction_abs_et_ord(indice1,indice2)\n",
    "        plt1 = axs[i,j].plot(donnees_abscisses_setosa,donnees_ordonnees_setosa, 'ro',label='Iris setosa')\n",
    "        plt2 = axs[i,j].plot(donnees_abscisses_versicolor,donnees_ordonnees_versicolor , 'bo',label='Iris versicolor')\n",
    "        plt3 = axs[i,j].plot(donnees_abscisses_virginica,donnees_ordonnees_virginica , 'go',label='Iris virginica')  \n",
    "        axs[i,j].set_xlabel(axes_labels[indice1])\n",
    "        axs[i,j].set_ylabel(axes_labels[indice2])\n",
    "        axs[i,j].set_title(\"Représentation des données #\"+str(compteur))\n",
    "\n",
    "fig.legend([plt1,plt2,plt3],     # The line objects\n",
    "           labels=point_labels,   # The labels for each line\n",
    "           loc=\"center right\",   # Position of legend\n",
    "           borderaxespad=0.1,    # Small spacing around legend box\n",
    "           title=\"Espèces\"  # Title for the legend\n",
    "           )    \n",
    "\n",
    "plt.show()"
   ]
  },
  {
   "cell_type": "markdown",
   "metadata": {},
   "source": [
    "<div class = \"alert alert-warning\">\n",
    "\n",
    "#### Exercice 3\n",
    "\n",
    "1. Une des espèce vous parraît-elle plus facile à distinguer des autres ? Si oui, laquelle et pourquoi ?\n",
    "2. La représentation des données #1 est-elle la plus adaptée pour faire des prédictions ? Si non, lesquelles sont plus pertinentes ?\n",
    "3. Pensez-vous que l'algorithme des plus proches voisins va fonctionner ?"
   ]
  },
  {
   "cell_type": "markdown",
   "metadata": {},
   "source": [
    "#### Réponses :\n",
    "1. \n",
    "2. \n",
    "3. "
   ]
  },
  {
   "cell_type": "markdown",
   "metadata": {},
   "source": [
    "## Fonctionnement de l'algorithme\n",
    "\n",
    "Flora se promène dans la nature et trouve deux iris dont elle mesure les pétales et sépales (ceci est réellement arrivé bien sûr !)  \n",
    "Elle trouve les dimensions suivantes :\n",
    "\n",
    "|             | largeur des sépales | longueur des sépales  |  largeur des pétales | longueur des pétales  |\n",
    "|:-----------:|----------|----------|----------|----------|\n",
    "| Iris 1 |  6 | 3.7  | 1.5  | 0.7|\n",
    "| Iris 2 |  6.5 | 3.1  | 5  | 1.2  |\n",
    "\n",
    "Les 2 iris inconnus sont placés dans les représentations graphiques ci-dessous.\n"
   ]
  },
  {
   "cell_type": "code",
   "execution_count": null,
   "metadata": {},
   "outputs": [],
   "source": [
    "# Instanciation du graphique\n",
    "fig, axs = plt.subplots(2, 3, figsize=(20, 10))\n",
    "# Définition des légendes\n",
    "point_labels = [\"Iris Setosa\", \"Iris versicolor\", \"Iris virginica\", \"Iris Inconnu 1\",\"Iris Inconnu 2\"]\n",
    "axes_labels = [\"longueur des sépales\" , \"largeur des sépales\" , \"longueur des pétales\"  , \"largeur des pétales\"  ]\n",
    "# Dictionnaire associant la position du graphique avec les caratères étudiés\n",
    "correspondance = {(0,0):(0,1) , (0,1):(0,2) , (0,2):(0,3) , (1,0):(1,2) , (1,1):(1,3) , (1,2):(2,3)}\n",
    "iris1= [6,3.7,1.5,0.7,'inconnu 1']\n",
    "iris2= [6.5, 3.1, 5, 1.2, 'inconnu 2']\n",
    "\n",
    "# Boucle permetant d'afficher les données en choisissant les axes\n",
    "compteur = 0\n",
    "for i in range(0,2):\n",
    "    for j in range(0,3):\n",
    "        compteur += 1\n",
    "        # extraction des données\n",
    "        indice1,indice2=correspondance[(i,j)]\n",
    "        donnees_abscisses_setosa,donnees_ordonnees_setosa,donnees_abscisses_versicolor,donnees_ordonnees_versicolor, donnees_abscisses_virginica,donnees_ordonnees_virginica = extraction_abs_et_ord(indice1,indice2)\n",
    "        plt1 = axs[i,j].plot(donnees_abscisses_setosa,donnees_ordonnees_setosa, 'ro',label='Iris setosa')\n",
    "        plt2 = axs[i,j].plot(donnees_abscisses_versicolor,donnees_ordonnees_versicolor , 'bo',label='Iris versicolor')\n",
    "        plt3 = axs[i,j].plot(donnees_abscisses_virginica,donnees_ordonnees_virginica , 'go',label='Iris virginica')  \n",
    "        plt4 = axs[i,j].plot(iris1[indice1],iris1[indice2] , marker = '*', color='black',label='Iris inconnu 1') \n",
    "        plt5 = axs[i,j].plot(iris2[indice1],iris2[indice2] , marker = '*', color='m',label='Iris inconnu 2')  \n",
    "        axs[i,j].set_xlabel(axes_labels[indice1])\n",
    "        axs[i,j].set_ylabel(axes_labels[indice2])\n",
    "        axs[i,j].set_title(\"Représentation des données #\"+str(compteur))\n",
    "\n",
    "fig.legend([plt1,plt2,plt3,plt4,plt5],     # The line objects\n",
    "           labels=point_labels,   # The labels for each line\n",
    "           loc=\"center right\",   # Position of legend\n",
    "           borderaxespad=0.1,    # Small spacing around legend box\n",
    "           title=\"Espèces\"  # Title for the legend\n",
    "           )    \n",
    "\n",
    "plt.show()"
   ]
  },
  {
   "cell_type": "markdown",
   "metadata": {},
   "source": [
    "<div class = \"alert alert-warning\">\n",
    "    \n",
    "#### Exercice 4\n",
    "1. Selon vous, quelles sont les espèces de ces deux iris ? Justifiez votre choix.\n",
    "2. Expliquer pourquoi la classification de l'iris 2 est plus délicate."
   ]
  },
  {
   "cell_type": "markdown",
   "metadata": {},
   "source": [
    "#### Réponses :\n",
    "1. \n",
    "2. "
   ]
  },
  {
   "cell_type": "markdown",
   "metadata": {},
   "source": [
    "## Fonctionnement de l'algorithme\n",
    "\n",
    "Pour avoir une règle plus précise de décision, nous allons utliser l'algorithme des plus proches voisins.\n",
    "\n",
    "On rappelle le principe de l’algorithme des k plus proches voisins :\n",
    "1. On calcule les distances entre la donnée et chaque donnée appartenant aux données d’apprentissage.\n",
    "2. On retient les k données les plus proches de la nouvelle donnée.\n",
    "3. On attribue à la nouvelle donnée l’étiquette la plus fréquente parmi les k données les plus proches."
   ]
  },
  {
   "cell_type": "markdown",
   "metadata": {},
   "source": [
    "Voici une réprésentation en 2D de ce jeu de données :\n",
    "<img src='Images/graph0.png' style='float:right;' width=350>\n",
    "* En abscisse : la longueur des pétales\n",
    "* En ordonnée : la largeur des pétales"
   ]
  },
  {
   "cell_type": "markdown",
   "metadata": {},
   "source": [
    "<img src='Images/graph1.png' style='float:right;' width=350>\n",
    "On trouve un nouvel iris dont dont la longueur des pétales est 2 cm et la largeur 0,5 cm.\n",
    "\n",
    "En plaçant le point de coordonnées $(2; 0,5)$, on constate qu'il y a de fortes chances que cet iris soit \"iris-setosa\""
   ]
  },
  {
   "cell_type": "markdown",
   "metadata": {},
   "source": [
    "<img src='Images/graph2.png' style='float:right;' width=350>\n",
    "On trouve un nouvel iris dont dont la longueur des pétales est 2,5 cm et la largeur 0,75 cm.\n",
    "\n",
    "En plaçant le point de coordonnées $(2,5; 0,75)$, on constate qu'il est plus difficile de prendre une décision.\n",
    "\n",
    "C'est l'algorithme des k plus proches voisins qui va prendre la décision."
   ]
  },
  {
   "cell_type": "markdown",
   "metadata": {},
   "source": [
    "<img src='Images/graph3.png' style='float:right;' width=350>\n",
    "La valeur de $k$ est le nombre de plus proches voisins(en terme de distance) avec lesquels le nouvel iris sera comparé. \n",
    "\n",
    "Dans l'exemple ci-contre, $k=3$, les trois plus proches voisins sont indiqués par des flèches.\n",
    "\n",
    "Parmi ces trois voisins, deux sont étiquettés \"setosa\" et un seul est étiquetté \"versicolor\".\n",
    "\n",
    "L'algorithme des 3 plus proches voisins choisira d'étiquetter ce nouvel iris comme \"setosa\"."
   ]
  },
  {
   "cell_type": "markdown",
   "metadata": {},
   "source": [
    "#### Rappel avant de continuer :\n",
    "* La distance dont il s'agit ici est la distance euclidienne dans un repère orthonormé entre deux points $A(x_{A};y_{A})$ et $B(x_{B};y_{B})$ :\n",
    "\n",
    "\n",
    "\n",
    "<center> $AB=\\sqrt{(x_{B}-x_{A})²+(y_{B}-y_{A})²}$ </center>\n",
    "\n",
    "* Cette formule ce généralise en dimension supérieure de la façon suivante : \n",
    "\n",
    "\n",
    "<center> $AB=\\sqrt{(x_{B}-x_{A})²+(y_{B}-y_{A})²+(z_{B}-z_{A})² + ...}$ </center>\n"
   ]
  },
  {
   "cell_type": "markdown",
   "metadata": {},
   "source": [
    "## Programmation de l'algorithme\n",
    "\n",
    "### Calculer la distance d'un point à chacun des points du dataset."
   ]
  },
  {
   "cell_type": "markdown",
   "metadata": {},
   "source": [
    "<div class = \"alert alert-warning\">\n",
    "    \n",
    "#### Exercice 5 :\n",
    "\n",
    "Compléter la fonction ci-dessous. Elle doit vérifier les containtes suivantes :\n",
    "\n",
    "- deux paramètres en entrée : deux listes ayant comme paramètres longueur_sepale, largeur_sepale, longueur_petale, largeur_petale comme ceux présents dans table_iris\n",
    "- renvoie la distance **arrondie à trois décimales** entre ces deux iris en prenant en compte les valeurs de ces quatre champs.\n",
    " \n",
    "Deux assertions qui doivent être vérifiées par votre fonction sont données ensuite.\n",
    " \n",
    "**Rappels :**     \n",
    "      \n",
    "- On utilisera `sqrt` du module `math` pour calculer la racine carrée et `**` pour mettre au carré.\n",
    "\n",
    "- On utilisera `round(x, 3)` pour arrondir un nombre `x` en ne gardant que trois décimales.\n"
   ]
  },
  {
   "cell_type": "code",
   "execution_count": null,
   "metadata": {},
   "outputs": [],
   "source": [
    "def calcul_distance(irisA,irisB):\n",
    "    \"\"\"\n",
    "    Entrée : 2 iris avec 4 variables prédictrices\n",
    "    Sortie : la distance (euclidienne) entre ces deux iris arrondie à 3 décimales\n",
    "    \"\"\"\n",
    "    # Votre code ici\n",
    "    return # Votre code ici"
   ]
  },
  {
   "cell_type": "code",
   "execution_count": null,
   "metadata": {},
   "outputs": [],
   "source": [
    "# Tests pour vérifier votre fonction calcul_distance\n",
    "irisA , irisB =dataset[0] , dataset[1]\n",
    "assert calcul_distance(irisA , irisB ) == 0.539\n",
    "irisA , irisB =dataset[2] , dataset[3]\n",
    "assert calcul_distance(irisA , irisB ) == 0.245"
   ]
  },
  {
   "cell_type": "markdown",
   "metadata": {},
   "source": [
    "<div class = \"alert alert-warning\">\n",
    "\n",
    "#### Exercice 6 :\n",
    "    \n",
    "Maintenant, pour une nouvelle fleur, il va falloir calculer les distances entre chaque iris du jeu de donnée et la nouvelle fleur.  \n",
    "Pour cela, nous allons écrire une fonction qui ayant :\n",
    "- en entrée : \n",
    "    - une liste correspondant à la nouvelle fleur \n",
    "    - le jeu de données , dans notre exemple c'est `dataset`\n",
    "- en sortie : une copie du jeu de donnée avec un nouveau champ pour chaque iris correspondant à la distance de cet iris avec la nouvelle fleur.\n",
    "    \n",
    "**Remarques :**\n",
    "- Pour copier une liste nommée `liste_originale` dans une liste nommée `liste_copiee`, on peut utliser la commande `liste_copiee = liste_originale[:]`. Ce procédé permet de garder la liste orginale intacte et de procéder à des modification sur la copie.\n",
    "\n"
   ]
  },
  {
   "cell_type": "code",
   "execution_count": null,
   "metadata": {},
   "outputs": [],
   "source": [
    "def distances_dataset(nouvel_iris,datas):\n",
    "    # Votre code ici\n",
    "    return # Votre code ici\n",
    "        \n",
    "        "
   ]
  },
  {
   "cell_type": "code",
   "execution_count": null,
   "metadata": {},
   "outputs": [],
   "source": [
    "iris1= [6,3.7,1.5,0.7,'inconnu 1']\n",
    "iris2= [6.5, 3.1, 5, 1.2, 'inconnu 2']\n",
    "distances_iris1 = distances_dataset(iris1,dataset)\n",
    "distances_iris2 = distances_dataset(iris2,dataset)"
   ]
  },
  {
   "cell_type": "markdown",
   "metadata": {},
   "source": [
    "La suite va consister à trier la liste obtenue à l'étape précédente par ordre croissant de distance par rapport à la nouvelle fleur.  \n",
    "Ensuite il va falloir extraire les k plus proches voisins."
   ]
  },
  {
   "cell_type": "markdown",
   "metadata": {},
   "source": [
    "<div class = \"alert alert-warning\">\n",
    "\n",
    "#### Exercice 7 :\n",
    "Pour cela, nous allons écrire une fonction qui ayant :\n",
    "- en entrée : \n",
    "    - une entier k (le nombre de plus proches voisins) \n",
    "    - le jeu de données , dans notre exemple c'est `dataset`, avec le champs distance (obtenu à l'étape précédente)\n",
    "- en sortie : La liste des étiquettes des k plus proches voisins\n",
    "    \n",
    "**Aide :**\n",
    "    La fonction `sorted` permet de faire un tri 'en place' (la liste initiale est remplacée par la liste triée) en fonction d'un des champs d'une liste.  \n",
    "    `sorted(liste, key=lambda liste: liste[2]) ` permet de trier la liste en fonction du champs d'indice 2."
   ]
  },
  {
   "cell_type": "code",
   "execution_count": null,
   "metadata": {},
   "outputs": [],
   "source": [
    "def extraire_proches_voisins(k,liste_distance):\n",
    "    # Votre code ici\n",
    "    return # Votre code ici"
   ]
  },
  {
   "cell_type": "code",
   "execution_count": null,
   "metadata": {},
   "outputs": [],
   "source": [
    "# Test de la fonction extraire_proches_voisins\n",
    "\n",
    "assert extraire_proches_voisins(3,distances_iris2) == ['Iris-versicolor', 'Iris-versicolor', 'Iris-virginica']\n",
    "assert extraire_proches_voisins(5,distances_iris1) == ['Iris-setosa', 'Iris-setosa', 'Iris-setosa', 'Iris-setosa', 'Iris-setosa']"
   ]
  },
  {
   "cell_type": "markdown",
   "metadata": {},
   "source": [
    "<div class = \"alert alert-warning\">\n",
    "\n",
    "#### Exercice 8 :\n",
    "    \n",
    "Ensuite il faut créer une fonction qui permet de déterminer l'étiquette majoritaire dans la liste des k plus proches voisins.\n",
    "\n",
    "Compléter la fonction `element_majoritaire(etiquettes)` : \n",
    "* Entrées : \n",
    "  * La liste `etiquettes`\n",
    "* Sortie: l'élément majoritaire dans la liste `etiquettes`  \n"
   ]
  },
  {
   "cell_type": "code",
   "execution_count": null,
   "metadata": {},
   "outputs": [],
   "source": [
    "def element_majoritaire(etiquettes):\n",
    "    # elements est le dictionnaire des etiquettes sans doublons. La valeur associée à chaque clé est par défaut 0.\n",
    "    elements = {element:0 for element in set(etiquettes)}\n",
    "    # Compléter la ligne suivant pour que la valeur de chaque clé soit le nombre de fois où la clé apparait dans la liste etiquette\n",
    "    for cle in elements:\n",
    "        elements[cle] = # Votre code ici\n",
    "    # Ensuite, à partir du dictionnaire précédent, trouver l'élément majoritaire\n",
    "    max = 0\n",
    "    element_majoritaire = ''\n",
    "    for cle,valeur in elements.items():\n",
    "        # Votre code ici\n",
    "    return element_majoritaire\n"
   ]
  },
  {
   "cell_type": "code",
   "execution_count": null,
   "metadata": {},
   "outputs": [],
   "source": [
    "#Des tests .\n",
    "assert element_majoritaire(['alice','bob','alice','alice','bob','alice','alice','bob','charly']) == 'alice'\n",
    "assert element_majoritaire(['Iris-versicolor', 'Iris-versicolor', 'Iris-virginica']) == 'Iris-versicolor'"
   ]
  },
  {
   "cell_type": "markdown",
   "metadata": {},
   "source": [
    "<div class = \"alert alert-warning\">\n",
    "\n",
    "#### Exercice 9 :\n",
    "    \n",
    "Intégrez tout ce qui précdède dans une unique fonction `k_plus_proches_voisins` qui prend en paramètres :  \n",
    "    \n",
    "- un nombre entier `k`,  \n",
    "    \n",
    "- une table d'iris étiquetés `table_iris`,  \n",
    "\n",
    "- et un iris non étiqueté `nouvel_iris` \n",
    "    \n",
    "et renvoie l'étiquette de `iris_a_etiqueter` obtenue selon l'algorithme des k plus proches voisins."
   ]
  },
  {
   "cell_type": "code",
   "execution_count": null,
   "metadata": {},
   "outputs": [],
   "source": [
    "def k_plus_proches_voisins(k,nouvel_iris,datas):\n",
    "    # Votre code ici\n",
    "    return # Votre code ici"
   ]
  },
  {
   "cell_type": "markdown",
   "metadata": {},
   "source": [
    "<div class = \"alert alert-warning\">\n",
    "\n",
    "#### Exercice 10 :\n",
    "En déduire une prédiction pour chacun des deux iris inconnus de l'exercice 4 et vérifier la cohérence avec vos réponses."
   ]
  },
  {
   "cell_type": "code",
   "execution_count": null,
   "metadata": {},
   "outputs": [],
   "source": [
    "iris1= [6,3.7,1.5,0.7,'inconnu 1']\n",
    "iris2= [6.5, 3.1, 5, 1.2, 'inconnu 2']\n",
    "\n",
    "# Votre code ici"
   ]
  },
  {
   "cell_type": "markdown",
   "metadata": {},
   "source": [
    "## Tester la fiabilité de cet algorithme.\n",
    "\n",
    "Pour entraîner ou tester un algorithme d'apprentissage automatique, une technique classique est de partager le jeu de données en deux parties :\n",
    "- un jeu de données d'apprentissage, qui sert à construire le modèle\n",
    "- un jeu de test qui va servir à tester notre modèle.\n",
    "\n",
    "Dans le jeu de test, nous connaissons les étiquettes \"réelles\", nous pouvons donc utiliser notre modèle sur ce jeu de donnée 'de test' pour prédire des étiquettes.  \n",
    "Ensuite, en comparant les étiquettes prédites avec les étiquettes 'réelles', nous pouvons compter les erreurs faites par le modèle pour évaluer celui-ci.  \n",
    "Dans le cas des k plus proches voisins nous pouvons ainsi évaluer le poucentage d'erreurs en fonction de la valeur de k qui est choisie.\n",
    "\n"
   ]
  },
  {
   "cell_type": "markdown",
   "metadata": {},
   "source": [
    "<div class = \"alert alert-warning\">\n",
    "\n",
    "#### Exercice 11 :\n",
    "    \n",
    "Créer une fonction qui permet de séparer le jeu de données en deux jeux apprentissage/test.\n",
    "\n",
    "Compléter la fonction `creation_jeux` : \n",
    "* Entrées : \n",
    "  * le jeux de données : une liste\n",
    "  * pourcentage_test , un flotant entre 0 et 100 qui représente le % de données consacrées aux tests\n",
    "* Sortie: deux jeux apprentissage/test - 2 listes\n",
    "    \n",
    "La fonction shuffle du module random peut aider (voir la documentation sur internet)\n"
   ]
  },
  {
   "cell_type": "code",
   "execution_count": null,
   "metadata": {},
   "outputs": [],
   "source": [
    "# Jeu Apprentissage / Test\n",
    "#Mélange des données\n",
    "def creation_jeux(dataset,pourcentage_test):\n",
    "    # Votre code ici\n",
    "    return # Votre code ici\n",
    "\n",
    "\n",
    "jeu_apprentissage,jeu_test = creation_jeux(dataset,20)\n",
    "\n",
    "\n",
    "\n",
    "\n"
   ]
  },
  {
   "cell_type": "markdown",
   "metadata": {},
   "source": [
    "<div class = \"alert alert-warning\">\n",
    "\n",
    "#### Exercice 12 :\n",
    "    \n",
    "Créer une fonction qui permet de séparer le jeu de données en deux jeux apprentissage/test.\n",
    "\n",
    "Compléter la fonction `eval_erreurs` : \n",
    "* Entrées : \n",
    "  * le jeux d'apprentissage : une liste\n",
    "  * le jeux de tests : une liste    \n",
    "  * k un entier supérieur ou égal à 1\n",
    "* Sortie: le pourcentage d'erreurs réalisés par l'algorithme sur le jeu de test (en se servant du jeu d'apprentissage comme jeu de données)\n"
   ]
  },
  {
   "cell_type": "code",
   "execution_count": null,
   "metadata": {},
   "outputs": [],
   "source": [
    "def eval_erreurs(jeu_apprentissage,jeu_test,k):\n",
    "    # Votre code ici\n",
    "    return # Votre code ici\n",
    "\n",
    "\n",
    "# Ci-dessous, 100 itérations sont effectués pour calculer la moyenne du nombre d'erreurs pour chaque valeur de k\n",
    "# Ensuite un graphique permet de visualiser le pourcentage d'erreurs en fonction de la valeur de k.\n",
    "# Comme la génération de la liste `erreurs` est en partie aléatoire, vos graphiques seront différents à chaque éxécution de la cellule.\n",
    "# Mais cela donne une idée de l'influence du paramètre k.\n",
    "# Attention, l'éxécution de cette cellule peut prendre du temps.\n",
    "\n",
    "erreurs = []\n",
    "for k in range(1,12):\n",
    "    erreur = 0\n",
    "    for i in range(100):\n",
    "        erreur += eval_erreurs(jeu_apprentissage,jeu_test,k)\n",
    "    moyenne = erreur/100\n",
    "    erreurs.append(moyenne)\n",
    "\n",
    "# erreurs = [eval_erreurs(jeu_apprentissage,jeu_test,k) for k in range(1,12)]\n",
    "\n",
    "print(erreurs)\n",
    "\n",
    "fig, ax = plt.subplots()  # Create a figure and an axes.\n",
    "ax.plot(list(range(1,12)), erreurs, label='Erreurs')  # Plot some data on the axes.\n",
    "ax.set_xlabel('k')  # Add an x-label to the axes.\n",
    "ax.set_ylabel(\"Pourcentage d'erreurs\")  # Add a y-label to the axes.\n",
    "ax.set_title(\"Graphique du % d'erreurs en fonction des valeurs de k\")  # Add a title to the axes.\n",
    "ax.legend()  # Add a legend."
   ]
  },
  {
   "cell_type": "code",
   "execution_count": null,
   "metadata": {},
   "outputs": [],
   "source": []
  }
 ],
 "metadata": {
  "kernelspec": {
   "display_name": "Python 3",
   "language": "python",
   "name": "python3"
  },
  "language_info": {
   "codemirror_mode": {
    "name": "ipython",
    "version": 3
   },
   "file_extension": ".py",
   "mimetype": "text/x-python",
   "name": "python",
   "nbconvert_exporter": "python",
   "pygments_lexer": "ipython3",
   "version": "3.7.4"
  }
 },
 "nbformat": 4,
 "nbformat_minor": 4
}
