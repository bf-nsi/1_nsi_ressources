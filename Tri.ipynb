{
  "nbformat": 4,
  "nbformat_minor": 0,
  "metadata": {
    "colab": {
      "name": "Tri.ipynb",
      "provenance": [],
      "collapsed_sections": [],
      "toc_visible": true
    },
    "kernelspec": {
      "name": "python3",
      "display_name": "Python 3"
    }
  },
  "cells": [
    {
      "cell_type": "markdown",
      "metadata": {
        "id": "qAHZ3d1ICy1I",
        "colab_type": "text"
      },
      "source": [
        "---\n",
        "#**Séquence 18 : TP - Algorithmes de tri**\n",
        "\n",
        "---\n",
        "\n"
      ]
    },
    {
      "cell_type": "markdown",
      "metadata": {
        "id": "S_QK3YqE7P-b",
        "colab_type": "text"
      },
      "source": [
        "## **Comment ranger des données afin de faciliter leur accès futur ?**\n",
        "  \n",
        "C’est par exemple l’ordre alphabétique du dictionnaire, où les mots sont rangés dans un ordre logique qui permet de ne pas devoir parcourir tout l’ouvrage pour retrouver une définition. Ce peut être aussi l’ordre intuitif dans lequel un joueur de cartes va ranger son jeu afin de limiter le temps de recherche pendant le  déroulement de la partie. En informatique, le tri des données en vue d'en facilité l'accès, est une activité récurrente comptant parmi les actions les plus réalisées sur une machine.\n",
        "\n",
        " \n",
        "Cette problématique permet d’introduire la notion de tri (avec plusieurs sens distincts : séparer, ordonner, choisir), qui correspond à un problème classique de l'algorithmique pouvant être mis en oeuvre de différentes manières. Nous en étudierons deux cette année : le **tri par insertion** et le **tri par sélection**.\n",
        "\n",
        "##**Activité :** Quelle méthode de tri utilisez vous naturellement?\n",
        "* Prenez une quinzaine de cartes dans un jeu et triez les, en tentant de décrire les étapes de votre méthode.  \n",
        "* Visionnez ensuite cette vidéo : [Illustration des algorithmes de tri](https://www.youtube.com/watch?v=14c5N8CfnUo)  \n",
        "* Reconnaissez-vous l'algorithme que vous avez employé?"
      ]
    },
    {
      "cell_type": "markdown",
      "metadata": {
        "id": "srdiui7SEbJY",
        "colab_type": "text"
      },
      "source": [
        "<FONT color=\"green\">*Entrer votre réponse ici en double-cliquant sur la cellule.*"
      ]
    },
    {
      "cell_type": "markdown",
      "metadata": {
        "id": "pERNtOP4WD8x",
        "colab_type": "text"
      },
      "source": [
        "Vous pourrez par la suite revenir à cette vidéo pour vous aider à assimiler les deux méthodes de tri présentées ci-dessous."
      ]
    },
    {
      "cell_type": "markdown",
      "metadata": {
        "id": "YQB2xaZh9dPp",
        "colab_type": "text"
      },
      "source": [
        "# **1) Le tri par insertion**\n",
        "\n",
        "Le tri par insertion est le tri que la majorité des joueurs de cartes occasionnels pratiquent intuitivement.\n",
        "\n",
        "Il consiste à «traiter» toutes les cartes dans l’ordre découlant de la donne, le «traitement» se résumant, pour chaque carte, à l’insérer au bon endroit dans l’ensemble des cartes déjà triées.\n",
        "Matériellement, cette opération peut être réalisée selon deux variantes :\n",
        "\n",
        "* Soit avec deux tas de cartes, l’un sur la table, résultat de la donne, l’autre dans la main du joueur, contenant le jeu trié. L’opération de tri commence alors avec la totalité des cartes sur la table, et se termine avec la totalité des cartes dans la main du joueur.\n",
        "\n",
        "* Soit directement dans la main du joueur, celle-ci étant partagée mentalement en un côté «trié» et un côté «pas encore trié». L’opération de tri consiste alors à faire passer les cartes de l’un à l’autre en les insérant au bon endroit.  \n",
        "![Texte alternatif…](https://upload.wikimedia.org/wikipedia/commons/0/0f/Insertion-sort-example-300px.gif)\n",
        "\n",
        "### **Algorithme :**\n",
        "**fonction tri_insertion(liste L)-> liste**  \n",
        "> n ← taille de L  \n",
        "> pour i allant de 1 à n-1  \n",
        ">>x ← L[i]  \n",
        ">>j ← i  \n",
        ">> tant que j > 0 et L[j-1] > x faire  \n",
        ">>>L[j] ← L[j-1]    \n",
        ">>>j ← j - 1\n",
        "\n",
        ">>fin tant que  \n",
        ">>L[j] ← x\n",
        "\n",
        ">fin pour  \n",
        ">retourner L\n",
        "  \n",
        "**fin fonction**  "
      ]
    },
    {
      "cell_type": "markdown",
      "metadata": {
        "id": "LRY7PXuWGahy",
        "colab_type": "text"
      },
      "source": [
        "###**Exercice 1 : Codage du tri par insertion** \n",
        "* Executer sur papier cet algorithme sur la liste [9,6,1,4,8]\n",
        "* Traduisez cet algorithme en langage Python dans la cellule de code ci-dessous.\n",
        "\n",
        "\n"
      ]
    },
    {
      "cell_type": "code",
      "metadata": {
        "id": "UZ7xYTDZpP0p",
        "colab_type": "code",
        "colab": {}
      },
      "source": [
        "def tri_insertion(L:list)->list :\n",
        "  \"\"\"\n",
        "  Entrée : Liste L\n",
        "  Sortie : Liste L triée par ordre croissant \n",
        "  \"\"\"\n",
        "\n"
      ],
      "execution_count": 0,
      "outputs": []
    },
    {
      "cell_type": "markdown",
      "metadata": {
        "id": "AgbcuYR1wEeD",
        "colab_type": "text"
      },
      "source": [
        "* Effectuer des tests dans la cellule ci-dessous."
      ]
    },
    {
      "cell_type": "code",
      "metadata": {
        "id": "ebey6dfxEnwB",
        "colab_type": "code",
        "colab": {}
      },
      "source": [
        "print(tri_insertion([])) # Test sur liste vide\n",
        "#Effectuer vos tests ci-dessous.\n",
        "\n"
      ],
      "execution_count": 0,
      "outputs": []
    },
    {
      "cell_type": "markdown",
      "metadata": {
        "id": "NNlqN7I0TIhE",
        "colab_type": "text"
      },
      "source": [
        "##**Exercice 2 : Visualisation de l'exécution du code** \n",
        "Pour visualiser l'exécution de votre code Python (notamment en vue de débugger vos programmes), nous allons utiliser un outil en ligne : [Python Tutor](http://www.pythontutor.com/visualize.html#mode=edit).  \n",
        "Ainsi, après avoir suivi le lien précédent, copier/coller votre code (de la fonction, mais aussi de son appel) dans la fenêtre d'édition.  \n",
        "Cliquez ensuite sur *Visualize code*, et vous pourrez observer l'exécution pas à pas de votre programme, en visualisant les différents objets crées jusqu'à obtenir le résultat.\n",
        "Visualisez l'exécution de la fonction *tri_insertion* pour un appel *tri_insertion([9,6,1,4,8])*"
      ]
    },
    {
      "cell_type": "markdown",
      "metadata": {
        "id": "qe2O4mHHZUdp",
        "colab_type": "text"
      },
      "source": [
        "##**Exercice 3 : Analyse du tri par insertion** \n",
        "\n",
        "* Quelle est la complexité de cet algorithme?"
      ]
    },
    {
      "cell_type": "markdown",
      "metadata": {
        "id": "L9YEzIihKSKQ",
        "colab_type": "text"
      },
      "source": [
        "<FONT color=\"green\">*Entrer votre réponse ici.*"
      ]
    },
    {
      "cell_type": "markdown",
      "metadata": {
        "id": "BRdGEqnXKnBk",
        "colab_type": "text"
      },
      "source": [
        "* Etudier la terminaison de cet algorithme."
      ]
    },
    {
      "cell_type": "markdown",
      "metadata": {
        "id": "U39RyOTwQN8G",
        "colab_type": "text"
      },
      "source": [
        "<FONT color=\"green\">*Entrer votre réponse ici.*"
      ]
    },
    {
      "cell_type": "markdown",
      "metadata": {
        "id": "21nx-oVwLHDV",
        "colab_type": "text"
      },
      "source": [
        "* Voici l'expression mathématiques de l'invariant : *∀a∈[0,i],∀b∈[0,i] ,a ≤ b ⟹ T[a] ≤ T[b]*  \n",
        "Traduisez cette expression en français."
      ]
    },
    {
      "cell_type": "markdown",
      "metadata": {
        "id": "P5jtSsJoP_i9",
        "colab_type": "text"
      },
      "source": [
        "<FONT color=\"green\">*Entrer votre réponse ici.*"
      ]
    },
    {
      "cell_type": "markdown",
      "metadata": {
        "id": "bNFvW6TtTO10",
        "colab_type": "text"
      },
      "source": [
        "* Prouver la correction partielle de cet algorithme."
      ]
    },
    {
      "cell_type": "markdown",
      "metadata": {
        "id": "mIOU_5ZfTcD6",
        "colab_type": "text"
      },
      "source": [
        "<FONT color=\"green\">*Entrer votre réponse ici.*"
      ]
    },
    {
      "cell_type": "markdown",
      "metadata": {
        "colab_type": "text",
        "id": "rtLvpcEoQ07x"
      },
      "source": [
        "# **2) Le tri par selection**\n",
        "\n",
        "**Principe :**\n",
        "* On cherche le minimum dans la liste.\n",
        "* On échange ce minimum avec le premier élément de la liste.\n",
        "* On recommence avec le reste de la liste, jusqu’au dernier élément.\n",
        " \n",
        "![Texte alternatif…](https://upload.wikimedia.org/wikipedia/commons/9/94/Selection-Sort-Animation.gif)\n",
        "\n",
        "### **Algorithme :**\n",
        "**fonction tri_selection(liste L)->liste**\n",
        "> n ← taille de L  \n",
        "> pour i allant de 1 à n-1  \n",
        ">>min ← i  \n",
        ">>pour j allant de i+1 à n  \n",
        ">>>si L[j] < L[min] alors min ← j  \n",
        "\n",
        ">>fin pour  \n",
        ">>si min ≠ i alors échanger L[i] et L[min]\n",
        "\n",
        ">fin pour  \n",
        ">retourner L\n",
        "\n",
        "**fin fonction**"
      ]
    },
    {
      "cell_type": "markdown",
      "metadata": {
        "colab_type": "text",
        "id": "0XZ1wsrdYU6q"
      },
      "source": [
        "###**Exercice 4 : Codage du tri par selection** \n",
        "* Executer sur papier cet algorithme sur la liste [9,6,1,4,8]\n",
        "* Traduisez cet algorithme en langage Python dans la cellule de code ci-dessous.\n",
        "\n",
        "\n"
      ]
    },
    {
      "cell_type": "code",
      "metadata": {
        "colab_type": "code",
        "id": "1xC4g5aJYU6-",
        "colab": {}
      },
      "source": [
        "def tri_selection(L:list)->list :\n",
        "  \"\"\"\n",
        "  Entrée : Liste L\n",
        "  Sortie : Liste L triée par ordre croissant \n",
        "  \"\"\"\n",
        "\n"
      ],
      "execution_count": 0,
      "outputs": []
    },
    {
      "cell_type": "markdown",
      "metadata": {
        "colab_type": "text",
        "id": "dc9Pb8v_YU8R"
      },
      "source": [
        "* Effectuer des tests dans la cellule ci-dessous."
      ]
    },
    {
      "cell_type": "code",
      "metadata": {
        "colab_type": "code",
        "id": "z875bqfeYU8g",
        "colab": {}
      },
      "source": [
        "print(tri_selection([])) # Test sur liste vide\n",
        "#Effectuer vos tests ci-dessous.\n",
        "\n"
      ],
      "execution_count": 0,
      "outputs": []
    },
    {
      "cell_type": "markdown",
      "metadata": {
        "id": "1B7mHFblZ2gO",
        "colab_type": "text"
      },
      "source": [
        "* A l'aide [Python Tutor](http://www.pythontutor.com/visualize.html#mode=edit), visualiser l'exécution du code de votre fonction *tri_selection* pour l'appel *tri_selection([9,6,1,4,8])*."
      ]
    },
    {
      "cell_type": "markdown",
      "metadata": {
        "colab_type": "text",
        "id": "ROzoEZpoQjNJ"
      },
      "source": [
        "###**Exercice 5 : Analyse du tri par selection** \n",
        "\n",
        "* Quelle est la complexité de cet algorithme?"
      ]
    },
    {
      "cell_type": "markdown",
      "metadata": {
        "id": "E6koP5tHRDDN",
        "colab_type": "text"
      },
      "source": [
        "<FONT color=\"green\">*Entrer votre réponse ici.*  \n"
      ]
    },
    {
      "cell_type": "markdown",
      "metadata": {
        "colab_type": "text",
        "id": "2kApNLXMQjNy"
      },
      "source": [
        "* Etudier la terminaison de cet algorithme."
      ]
    },
    {
      "cell_type": "markdown",
      "metadata": {
        "id": "6beERUwXR44X",
        "colab_type": "text"
      },
      "source": [
        "<FONT color=\"green\">*Entrer votre réponse ici.*"
      ]
    },
    {
      "cell_type": "markdown",
      "metadata": {
        "colab_type": "text",
        "id": "mAigJrBvQjOk"
      },
      "source": [
        "* Donner une expression en français d'un invariant de boucle."
      ]
    },
    {
      "cell_type": "markdown",
      "metadata": {
        "id": "fb9R7DLlR7Dn",
        "colab_type": "text"
      },
      "source": [
        "<FONT color=\"green\">*Entrer votre réponse ici.*"
      ]
    },
    {
      "cell_type": "markdown",
      "metadata": {
        "id": "FhjUrgQjRmKL",
        "colab_type": "text"
      },
      "source": [
        "* Exposer (de manière informelle, en rédigeant un texte cours) des éléments de correction partielle de cette algorithme."
      ]
    },
    {
      "cell_type": "markdown",
      "metadata": {
        "id": "YuMEKsjnR9aV",
        "colab_type": "text"
      },
      "source": [
        "<FONT color=\"green\">*Entrer votre réponse ici.*"
      ]
    },
    {
      "cell_type": "markdown",
      "metadata": {
        "id": "rDUMuW5cBlIc",
        "colab_type": "text"
      },
      "source": [
        "Si vous souhaitez étendre vos connaissances sur les algorithmes de tri, vous pouvez consulter le site suivant, qui présente des animations interessantes : [http://lwh.free.fr/pages/algo/tri/tri.htm](http://lwh.free.fr/pages/algo/tri/tri.htm)"
      ]
    }
  ]
}